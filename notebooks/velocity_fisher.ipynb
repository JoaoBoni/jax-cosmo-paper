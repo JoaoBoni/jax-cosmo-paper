{
 "cells": [
  {
   "cell_type": "markdown",
   "metadata": {},
   "source": [
    "### Fisher Forecast with velocity angular power spectrum of Type Ia supernovae\n",
    "\n",
    "In this notebook we will obtain a Fisher matrix by autodiff with jax-cosmo"
   ]
  },
  {
   "cell_type": "code",
   "execution_count": 2,
   "metadata": {},
   "outputs": [],
   "source": [
    "%matplotlib inline \n",
    "import jax\n",
    "import jax_cosmo as jc\n",
    "import jax.numpy as jnp # any numpy function will be JAX-accelerted and differentiable\n",
    "import matplotlib.pyplot as plt\n",
    "from matplotlib.patches import Ellipse\n",
    "import pandas as pd"
   ]
  },
  {
   "cell_type": "markdown",
   "metadata": {},
   "source": [
    "#### Functions"
   ]
  },
  {
   "cell_type": "code",
   "execution_count": 3,
   "metadata": {},
   "outputs": [],
   "source": [
    "#plotting function\n",
    "\n",
    "def plot_contours(fisher, pos, nstd=1., ax=None, **kwargs):\n",
    "    \"\"\"\"\n",
    "    Plot 2D parameter contours given a Hessian matrix of the likelihood\n",
    "    \"\"\"\n",
    "    \n",
    "    def eigsorted(cov):\n",
    "        vals, vecs = linalg.eigh(cov)\n",
    "        order = vals.argsort()[::-1]\n",
    "        return vals[order], vecs[:, order]\n",
    "\n",
    "    mat = fisher\n",
    "    cov = jnp.linalg.inv(mat)\n",
    "    sigma_marg = lambda i: jnp.sqrt(cov[i, i])\n",
    "\n",
    "    if ax is None:\n",
    "        ax = plt.gca()\n",
    "\n",
    "    vals, vecs = eigsorted(cov)\n",
    "    theta = degrees(np.arctan2(*vecs[:, 0][::-1]))\n",
    "\n",
    "    # Width and height are \"full\" widths, not redius\n",
    "    width, height = 2 * nstd * sqrt(vals)\n",
    "    ellip = Ellipse(xy=pos, width=width,\n",
    "                        height=height, angle=theta, **kwargs)\n",
    "    \n",
    "    ax.add_artist(ellip)\n",
    "    sz = max(width, height)\n",
    "    s1 = 1.5 * nstd * sigma_marg(0)\n",
    "    s2 = 1.5 * nstd * sigma_marg(1)\n",
    "    ax.set_xlim(pos[0] - s1, pos[0] + s1)\n",
    "    ax.set_ylim(pos[0] - s2, pos[1] + s2)\n",
    "    plt.draw()\n",
    "    return ellip"
   ]
  },
  {
   "cell_type": "markdown",
   "metadata": {},
   "source": [
    "#### Cosmology"
   ]
  },
  {
   "cell_type": "code",
   "execution_count": 20,
   "metadata": {},
   "outputs": [
    {
     "name": "stdout",
     "output_type": "stream",
     "text": [
      "Cosmological parameters: \n",
      "    h:        0.6774 \n",
      "    Omega_b:  0.0486 \n",
      "    Omega_c:  0.2589 \n",
      "    Omega_k:  0.0 \n",
      "    w0:       -1.0 \n",
      "    wa:       0.0 \n",
      "    n:        0.9667 \n",
      "    sigma8:   0.8159\n"
     ]
    }
   ],
   "source": [
    "# Create a cosmology with default parameters\n",
    "cosmology = jc.Planck15()\n",
    "print(cosmology)"
   ]
  },
  {
   "cell_type": "markdown",
   "metadata": {},
   "source": [
    "#### Redshit Distribution"
   ]
  },
  {
   "cell_type": "code",
   "execution_count": 15,
   "metadata": {},
   "outputs": [
    {
     "data": {
      "text/plain": [
       "Text(0, 0.5, '# of SNe that pass cuts')"
      ]
     },
     "execution_count": 15,
     "metadata": {},
     "output_type": "execute_result"
    },
    {
     "data": {
      "image/png": "[encoded data removed]",
      "text/plain": [
       "<Figure size 432x288 with 1 Axes>"
      ]
     },
     "metadata": {
      "needs_background": "light"
     },
     "output_type": "display_data"
    }
   ],
   "source": [
    "#open file\n",
    "\n",
    "# Path on my mac\n",
    "#arquivo = open('/Users/joaopedrobonifacio/Documents/lib/python/Peculiar_Velocities_Cells/z_distribution.csv', 'r')\n",
    "#data = pd.read_csv(arquivo, sep=',', header=0)\n",
    "\n",
    "#Path on OV\n",
    "arquivo = open('/home/joao/lib/python/Peculiar_Velocities_Cells/z_distribution.csv', 'r')\n",
    "data = pd.read_csv(arquivo, sep=',', header=0)\n",
    "\n",
    "z =[]\n",
    "spec_SNe =[]\n",
    "\n",
    "for i in data:\n",
    "    z.append(data['z'])\n",
    "    spec_SNe.append(data['spec_SNe'])\n",
    "\n",
    "z = jnp.array(z[0])\n",
    "spec_SNe = jnp.array(spec_SNe[0])\n",
    "\n",
    "#plt.figure(figsize=(12, 12))\n",
    "plt.bar(z, spec_SNe, color='cornflowerblue', alpha=1, width=0.1, edgecolor='k')\n",
    "plt.plot(z, spec_SNe, color='red')\n",
    "plt.xticks([0, .1, .2, .3, .4, .5, .6, .7])\n",
    "plt.xlim(0, 0.8)\n",
    "plt.yticks(fontsize=12)\n",
    "plt.yscale('log')\n",
    "plt.xlabel('Redshift', fontsize=18)\n",
    "plt.ylabel('# of SNe that pass cuts', fontsize=18)"
   ]
  },
  {
   "cell_type": "markdown",
   "metadata": {},
   "source": [
    "#### Difining Probes and computing Cells\n",
    "\n",
    "We want to define velocity probes using the z distribution above.\n",
    "In jax-cosmo a probe/tracer of a given type contains a series of parameters.\n",
    "Probes are hosted in the jax_cosmo.probes module. \n",
    "\n",
    "Cells computations will take as argument a list of probes and will compute auto- and cross- correlations between all redshift bins of all probes."
   ]
  },
  {
   "cell_type": "code",
   "execution_count": 18,
   "metadata": {},
   "outputs": [
    {
     "ename": "AttributeError",
     "evalue": "module 'jax_cosmo.probes' has no attribute 'PeculiarVelocity'",
     "output_type": "error",
     "traceback": [
      "\u001b[0;31m---------------------------------------------------------------------------\u001b[0m",
      "\u001b[0;31mAttributeError\u001b[0m                            Traceback (most recent call last)",
      "\u001b[1;32m/home/joao/lib/python/jax-cosmo-paper/notebooks/velocity_fisher.ipynb Cell 10\u001b[0m in \u001b[0;36m<cell line: 4>\u001b[0;34m()\u001b[0m\n\u001b[1;32m      <a href='vscode-notebook-cell:/home/joao/lib/python/jax-cosmo-paper/notebooks/velocity_fisher.ipynb#X12sZmlsZQ%3D%3D?line=0'>1</a>\u001b[0m \u001b[39m# List of redshift bins\u001b[39;00m\n\u001b[1;32m      <a href='vscode-notebook-cell:/home/joao/lib/python/jax-cosmo-paper/notebooks/velocity_fisher.ipynb#X12sZmlsZQ%3D%3D?line=1'>2</a>\u001b[0m nzs \u001b[39m=\u001b[39m [z]\n\u001b[0;32m----> <a href='vscode-notebook-cell:/home/joao/lib/python/jax-cosmo-paper/notebooks/velocity_fisher.ipynb#X12sZmlsZQ%3D%3D?line=3'>4</a>\u001b[0m probes \u001b[39m=\u001b[39m [jc\u001b[39m.\u001b[39;49mprobes\u001b[39m.\u001b[39;49mPeculiarVelocity(nzs, sigma_e\u001b[39m=\u001b[39m\u001b[39m0.26\u001b[39m)]\n",
      "\u001b[0;31mAttributeError\u001b[0m: module 'jax_cosmo.probes' has no attribute 'PeculiarVelocity'"
     ]
    }
   ],
   "source": [
    "# List of redshift bins\n",
    "nzs = [z]\n",
    "\n",
    "probes = [jc.probes.PeculiarVelocity(nzs)]"
   ]
  },
  {
   "cell_type": "markdown",
   "metadata": {},
   "source": [
    "Given these probes, we can compute tomographic angular power spectra for these probes using the angular_cl tools hosted in the jax_cosmo.angular_cl module.\n",
    "All computations are done under the Limber approximation"
   ]
  },
  {
   "cell_type": "code",
   "execution_count": null,
   "metadata": {},
   "outputs": [],
   "source": [
    "ell = # defines a range of \\ell\n",
    "\n",
    "# Compute the data vector\n",
    "cls = jc.angular_cl.angular_cl(cosmo, ell, probes)"
   ]
  }
 ],
 "metadata": {
  "kernelspec": {
   "display_name": "base",
   "language": "python",
   "name": "python3"
  },
  "language_info": {
   "codemirror_mode": {
    "name": "ipython",
    "version": 3
   },
   "file_extension": ".py",
   "mimetype": "text/x-python",
   "name": "python",
   "nbconvert_exporter": "python",
   "pygments_lexer": "ipython3",
   "version": "3.9.12"
  },
  "orig_nbformat": 4
 },
 "nbformat": 4,
 "nbformat_minor": 2
}
