{
 "cells": [
  {
   "cell_type": "markdown",
   "metadata": {},
   "source": [
    "### Fisher Forecast with velocity angular power spectrum of Type Ia supernovae\n",
    "\n",
    "In this notebook we will obtain a Fisher matrix by autodiff with jax-cosmo"
   ]
  },
  {
   "cell_type": "code",
   "execution_count": 3,
   "metadata": {},
   "outputs": [],
   "source": [
    "import jax\n",
    "import jax.numpy as jnp\n",
    "import jax_cosmo as jc\n",
    "import numpy as np\n",
    "import matplotlib.pyplot as plt\n",
    "from matplotlib.patches import Ellipse"
   ]
  },
  {
   "cell_type": "markdown",
   "metadata": {},
   "source": [
    "#### Functions"
   ]
  },
  {
   "cell_type": "code",
   "execution_count": 4,
   "metadata": {},
   "outputs": [],
   "source": [
    "def plot_contours(fisher, pos,  nstd=1., ax=None, **kwargs):\n",
    "  \"\"\"\n",
    "  Plot 2D parameter contours given a Hessian matrix of the likelihood\n",
    "  \"\"\"\n",
    "  \n",
    "  def eigsorted(cov):\n",
    "    vals, vecs = np.linalg.eigh(cov)\n",
    "    order = vals.argsort()[::-1]\n",
    "    return vals[order], vecs[:, order]\n",
    "\n",
    "  mat = fisher\n",
    "  cov = np.linalg.inv(mat)\n",
    "  sigma_marg = lambda i: np.sqrt(cov[i, i])\n",
    "\n",
    "  if ax is None:\n",
    "      ax = plt.gca()\n",
    "\n",
    "  vals, vecs = eigsorted(cov)\n",
    "  theta = np.degrees(np.arctan2(*vecs[:, 0][::-1]))\n",
    "\n",
    "  # Width and height are \"full\" widths, not radius\n",
    "  width, height = 2 * nstd * np.sqrt(vals)\n",
    "  ellip = Ellipse(xy=pos, width=width,\n",
    "                  height=height, angle=theta, **kwargs)\n",
    "\n",
    "  ax.add_artist(ellip)\n",
    "  sz = max(width, height)\n",
    "  s1 = 1.5*nstd*sigma_marg(0)\n",
    "  s2 = 1.5*nstd*sigma_marg(1)\n",
    "  ax.set_xlim(pos[0] - s1, pos[0] + s1)\n",
    "  ax.set_ylim(pos[1] - s2, pos[1] + s2)\n",
    "  plt.draw()\n",
    "  return ellip"
   ]
  }
 ],
 "metadata": {
  "kernelspec": {
   "display_name": "base",
   "language": "python",
   "name": "python3"
  },
  "language_info": {
   "codemirror_mode": {
    "name": "ipython",
    "version": 3
   },
   "file_extension": ".py",
   "mimetype": "text/x-python",
   "name": "python",
   "nbconvert_exporter": "python",
   "pygments_lexer": "ipython3",
   "version": "3.10.8"
  },
  "orig_nbformat": 4
 },
 "nbformat": 4,
 "nbformat_minor": 2
}
